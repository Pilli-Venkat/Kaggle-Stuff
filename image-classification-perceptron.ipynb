{
 "cells": [
  {
   "cell_type": "code",
   "execution_count": 1,
   "id": "5746d47d",
   "metadata": {
    "execution": {
     "iopub.execute_input": "2023-04-12T13:41:33.530648Z",
     "iopub.status.busy": "2023-04-12T13:41:33.529904Z",
     "iopub.status.idle": "2023-04-12T13:41:35.051240Z",
     "shell.execute_reply": "2023-04-12T13:41:35.050047Z"
    },
    "papermill": {
     "duration": 1.533731,
     "end_time": "2023-04-12T13:41:35.054319",
     "exception": false,
     "start_time": "2023-04-12T13:41:33.520588",
     "status": "completed"
    },
    "tags": []
   },
   "outputs": [],
   "source": [
    "import numpy as np\n",
    "import pandas as pd\n",
    "import matplotlib.pyplot as plt\n",
    "import seaborn as sns\n",
    "from sklearn.datasets import fetch_openml"
   ]
  },
  {
   "cell_type": "code",
   "execution_count": 2,
   "id": "d6f0501d",
   "metadata": {
    "execution": {
     "iopub.execute_input": "2023-04-12T13:41:35.068725Z",
     "iopub.status.busy": "2023-04-12T13:41:35.067404Z",
     "iopub.status.idle": "2023-04-12T13:42:39.722030Z",
     "shell.execute_reply": "2023-04-12T13:42:39.720546Z"
    },
    "papermill": {
     "duration": 64.6651,
     "end_time": "2023-04-12T13:42:39.725323",
     "exception": false,
     "start_time": "2023-04-12T13:41:35.060223",
     "status": "completed"
    },
    "tags": []
   },
   "outputs": [],
   "source": [
    "X , y = fetch_openml('mnist_784',version=1 , return_X_y = True)"
   ]
  },
  {
   "cell_type": "code",
   "execution_count": 3,
   "id": "fb2cd88b",
   "metadata": {
    "execution": {
     "iopub.execute_input": "2023-04-12T13:42:39.739098Z",
     "iopub.status.busy": "2023-04-12T13:42:39.738659Z",
     "iopub.status.idle": "2023-04-12T13:42:39.748465Z",
     "shell.execute_reply": "2023-04-12T13:42:39.746707Z"
    },
    "papermill": {
     "duration": 0.020132,
     "end_time": "2023-04-12T13:42:39.751460",
     "exception": false,
     "start_time": "2023-04-12T13:42:39.731328",
     "status": "completed"
    },
    "tags": []
   },
   "outputs": [
    {
     "name": "stdout",
     "output_type": "stream",
     "text": [
      "(70000, 784)\n"
     ]
    },
    {
     "data": {
      "text/plain": [
       "(70000,)"
      ]
     },
     "execution_count": 3,
     "metadata": {},
     "output_type": "execute_result"
    }
   ],
   "source": [
    "print(X.shape )  # 28*28\n",
    "y.shape"
   ]
  },
  {
   "cell_type": "code",
   "execution_count": 4,
   "id": "0a07597e",
   "metadata": {
    "execution": {
     "iopub.execute_input": "2023-04-12T13:42:39.765205Z",
     "iopub.status.busy": "2023-04-12T13:42:39.764751Z",
     "iopub.status.idle": "2023-04-12T13:42:40.178493Z",
     "shell.execute_reply": "2023-04-12T13:42:40.177359Z"
    },
    "papermill": {
     "duration": 0.423653,
     "end_time": "2023-04-12T13:42:40.181018",
     "exception": false,
     "start_time": "2023-04-12T13:42:39.757365",
     "status": "completed"
    },
    "tags": []
   },
   "outputs": [
    {
     "data": {
      "text/plain": [
       "<AxesSubplot:xlabel='class', ylabel='Count'>"
      ]
     },
     "execution_count": 4,
     "metadata": {},
     "output_type": "execute_result"
    },
    {
     "data": {
      "image/png": "[encoded data removed]",
      "text/plain": [
       "<Figure size 640x480 with 1 Axes>"
      ]
     },
     "metadata": {},
     "output_type": "display_data"
    }
   ],
   "source": [
    "sns.histplot(y)\n",
    "\n",
    "\n",
    "# To check the distribution of class label"
   ]
  },
  {
   "cell_type": "code",
   "execution_count": 5,
   "id": "6373bf81",
   "metadata": {
    "execution": {
     "iopub.execute_input": "2023-04-12T13:42:40.196781Z",
     "iopub.status.busy": "2023-04-12T13:42:40.195858Z",
     "iopub.status.idle": "2023-04-12T13:42:41.040485Z",
     "shell.execute_reply": "2023-04-12T13:42:41.039117Z"
    },
    "papermill": {
     "duration": 0.855613,
     "end_time": "2023-04-12T13:42:41.043464",
     "exception": false,
     "start_time": "2023-04-12T13:42:40.187851",
     "status": "completed"
    },
    "tags": []
   },
   "outputs": [
    {
     "name": "stdout",
     "output_type": "stream",
     "text": [
      "Label :  5\n"
     ]
    },
    {
     "data": {
      "text/plain": [
       "Text(0.5, 1.0, 'Image')"
      ]
     },
     "execution_count": 5,
     "metadata": {},
     "output_type": "execute_result"
    },
    {
     "data": {
      "image/png": "[encoded data removed]",
      "text/plain": [
       "<Figure size 640x480 with 1 Axes>"
      ]
     },
     "metadata": {},
     "output_type": "display_data"
    }
   ],
   "source": [
    "# To plot the image, we need to scale the data and reshape with 28*28\n",
    "from sklearn.preprocessing import  MinMaxScaler\n",
    "min_max_obj = MinMaxScaler()\n",
    "new_X = min_max_obj.fit_transform(X)\n",
    "print(\"Label : \",y[0])\n",
    "plt.imshow(new_X[0].reshape(28,28))\n",
    "plt.title(\"Image\")"
   ]
  },
  {
   "cell_type": "code",
   "execution_count": 6,
   "id": "9494b528",
   "metadata": {
    "execution": {
     "iopub.execute_input": "2023-04-12T13:42:41.059867Z",
     "iopub.status.busy": "2023-04-12T13:42:41.059076Z",
     "iopub.status.idle": "2023-04-12T13:42:41.070945Z",
     "shell.execute_reply": "2023-04-12T13:42:41.069202Z"
    },
    "papermill": {
     "duration": 0.023153,
     "end_time": "2023-04-12T13:42:41.073523",
     "exception": false,
     "start_time": "2023-04-12T13:42:41.050370",
     "status": "completed"
    },
    "tags": []
   },
   "outputs": [
    {
     "name": "stdout",
     "output_type": "stream",
     "text": [
      "Total class labels :  10\n",
      "Class labels :  ['5', '0', '4', '1', '9', '2', '3', '6', '7', '8']\n",
      "Categories (10, object): ['0', '1', '2', '3', ..., '6', '7', '8', '9']\n"
     ]
    }
   ],
   "source": [
    "print(\"Total class labels : \" ,y.nunique())\n",
    "print(\"Class labels : \" , y.unique())\n",
    "\n"
   ]
  },
  {
   "cell_type": "markdown",
   "id": "9058c8ff",
   "metadata": {
    "papermill": {
     "duration": 0.006545,
     "end_time": "2023-04-12T13:42:41.087012",
     "exception": false,
     "start_time": "2023-04-12T13:42:41.080467",
     "status": "completed"
    },
    "tags": []
   },
   "source": [
    "# Train the model - For Binary Classification"
   ]
  },
  {
   "cell_type": "code",
   "execution_count": 7,
   "id": "a7b7af8d",
   "metadata": {
    "execution": {
     "iopub.execute_input": "2023-04-12T13:42:41.103361Z",
     "iopub.status.busy": "2023-04-12T13:42:41.102616Z",
     "iopub.status.idle": "2023-04-12T13:42:41.109154Z",
     "shell.execute_reply": "2023-04-12T13:42:41.107769Z"
    },
    "papermill": {
     "duration": 0.017966,
     "end_time": "2023-04-12T13:42:41.111917",
     "exception": false,
     "start_time": "2023-04-12T13:42:41.093951",
     "status": "completed"
    },
    "tags": []
   },
   "outputs": [],
   "source": [
    "X_train , X_test , y_train , y_test = X.iloc[0:6000], X.iloc[6000:],y.iloc[0:6000],y.iloc[6000:]"
   ]
  },
  {
   "cell_type": "code",
   "execution_count": 8,
   "id": "bb709346",
   "metadata": {
    "execution": {
     "iopub.execute_input": "2023-04-12T13:42:41.128720Z",
     "iopub.status.busy": "2023-04-12T13:42:41.127346Z",
     "iopub.status.idle": "2023-04-12T13:42:41.192556Z",
     "shell.execute_reply": "2023-04-12T13:42:41.191295Z"
    },
    "papermill": {
     "duration": 0.076497,
     "end_time": "2023-04-12T13:42:41.195477",
     "exception": false,
     "start_time": "2023-04-12T13:42:41.118980",
     "status": "completed"
    },
    "tags": []
   },
   "outputs": [],
   "source": [
    "from sklearn.preprocessing import MinMaxScaler\n",
    "\n",
    "min_max = MinMaxScaler()\n",
    "X_train_transform = min_max.fit_transform(X_train)"
   ]
  },
  {
   "cell_type": "code",
   "execution_count": 9,
   "id": "98e4ded4",
   "metadata": {
    "execution": {
     "iopub.execute_input": "2023-04-12T13:42:41.211685Z",
     "iopub.status.busy": "2023-04-12T13:42:41.211225Z",
     "iopub.status.idle": "2023-04-12T13:42:41.453192Z",
     "shell.execute_reply": "2023-04-12T13:42:41.451699Z"
    },
    "papermill": {
     "duration": 0.253587,
     "end_time": "2023-04-12T13:42:41.456146",
     "exception": false,
     "start_time": "2023-04-12T13:42:41.202559",
     "status": "completed"
    },
    "tags": []
   },
   "outputs": [
    {
     "data": {
      "text/plain": [
       "<matplotlib.image.AxesImage at 0x706ee1d3bd90>"
      ]
     },
     "execution_count": 9,
     "metadata": {},
     "output_type": "execute_result"
    },
    {
     "data": {
      "image/png": "[encoded data removed]",
      "text/plain": [
       "<Figure size 640x480 with 1 Axes>"
      ]
     },
     "metadata": {},
     "output_type": "display_data"
    }
   ],
   "source": [
    "plt.imshow(X_train_transform[0].reshape(28,28))"
   ]
  },
  {
   "cell_type": "code",
   "execution_count": 10,
   "id": "ed2b3a20",
   "metadata": {
    "execution": {
     "iopub.execute_input": "2023-04-12T13:42:41.473857Z",
     "iopub.status.busy": "2023-04-12T13:42:41.473388Z",
     "iopub.status.idle": "2023-04-12T13:42:41.491006Z",
     "shell.execute_reply": "2023-04-12T13:42:41.489537Z"
    },
    "papermill": {
     "duration": 0.031387,
     "end_time": "2023-04-12T13:42:41.494702",
     "exception": false,
     "start_time": "2023-04-12T13:42:41.463315",
     "status": "completed"
    },
    "tags": []
   },
   "outputs": [
    {
     "data": {
      "text/plain": [
       "[-1, 1]\n",
       "Categories (2, int64): [1, -1]"
      ]
     },
     "execution_count": 10,
     "metadata": {},
     "output_type": "execute_result"
    }
   ],
   "source": [
    "y_train =  y_train.replace(['1','2','3','4','5','6','7','8','9'],-1).replace(['0'],1)\n",
    "y_train.unique()"
   ]
  },
  {
   "cell_type": "code",
   "execution_count": 11,
   "id": "e62c2417",
   "metadata": {
    "execution": {
     "iopub.execute_input": "2023-04-12T13:42:41.511895Z",
     "iopub.status.busy": "2023-04-12T13:42:41.511425Z",
     "iopub.status.idle": "2023-04-12T13:42:41.528627Z",
     "shell.execute_reply": "2023-04-12T13:42:41.527170Z"
    },
    "papermill": {
     "duration": 0.029483,
     "end_time": "2023-04-12T13:42:41.531300",
     "exception": false,
     "start_time": "2023-04-12T13:42:41.501817",
     "status": "completed"
    },
    "tags": []
   },
   "outputs": [
    {
     "data": {
      "text/plain": [
       "[-1, 1]\n",
       "Categories (2, int64): [1, -1]"
      ]
     },
     "execution_count": 11,
     "metadata": {},
     "output_type": "execute_result"
    }
   ],
   "source": [
    "y_test =  y_test.replace(['1','2','3','4','5','6','7','8','9'],-1).replace(['0'],1)\n",
    "y_test.unique()"
   ]
  },
  {
   "cell_type": "code",
   "execution_count": 12,
   "id": "7f872bcf",
   "metadata": {
    "execution": {
     "iopub.execute_input": "2023-04-12T13:42:41.547703Z",
     "iopub.status.busy": "2023-04-12T13:42:41.547240Z",
     "iopub.status.idle": "2023-04-12T13:42:42.044847Z",
     "shell.execute_reply": "2023-04-12T13:42:42.042743Z"
    },
    "papermill": {
     "duration": 0.511531,
     "end_time": "2023-04-12T13:42:42.050183",
     "exception": false,
     "start_time": "2023-04-12T13:42:41.538652",
     "status": "completed"
    },
    "tags": []
   },
   "outputs": [
    {
     "data": {
      "text/plain": [
       "0.979875"
      ]
     },
     "execution_count": 12,
     "metadata": {},
     "output_type": "execute_result"
    }
   ],
   "source": [
    "from sklearn.linear_model import Perceptron\n",
    "\n",
    "per_obj = Perceptron()\n",
    "per_obj.fit(X_train, y_train)\n",
    "per_obj.score(X_test,y_test)"
   ]
  },
  {
   "cell_type": "code",
   "execution_count": 13,
   "id": "7595953f",
   "metadata": {
    "execution": {
     "iopub.execute_input": "2023-04-12T13:42:42.091489Z",
     "iopub.status.busy": "2023-04-12T13:42:42.090543Z",
     "iopub.status.idle": "2023-04-12T13:42:42.183719Z",
     "shell.execute_reply": "2023-04-12T13:42:42.181857Z"
    },
    "papermill": {
     "duration": 0.119008,
     "end_time": "2023-04-12T13:42:42.188508",
     "exception": false,
     "start_time": "2023-04-12T13:42:42.069500",
     "status": "completed"
    },
    "tags": []
   },
   "outputs": [],
   "source": [
    "y_pred = per_obj.predict(X_test)"
   ]
  },
  {
   "cell_type": "markdown",
   "id": "2fe4f76f",
   "metadata": {
    "papermill": {
     "duration": 0.018646,
     "end_time": "2023-04-12T13:42:42.228778",
     "exception": false,
     "start_time": "2023-04-12T13:42:42.210132",
     "status": "completed"
    },
    "tags": []
   },
   "source": [
    "# Classification Metrics"
   ]
  },
  {
   "cell_type": "code",
   "execution_count": 14,
   "id": "63650eaf",
   "metadata": {
    "execution": {
     "iopub.execute_input": "2023-04-12T13:42:42.269204Z",
     "iopub.status.busy": "2023-04-12T13:42:42.268414Z",
     "iopub.status.idle": "2023-04-12T13:42:42.276373Z",
     "shell.execute_reply": "2023-04-12T13:42:42.275037Z"
    },
    "papermill": {
     "duration": 0.033118,
     "end_time": "2023-04-12T13:42:42.280513",
     "exception": false,
     "start_time": "2023-04-12T13:42:42.247395",
     "status": "completed"
    },
    "tags": []
   },
   "outputs": [],
   "source": [
    "from sklearn.metrics import confusion_matrix,ConfusionMatrixDisplay, precision_score, recall_score,f1_score,roc_curve"
   ]
  },
  {
   "cell_type": "code",
   "execution_count": 15,
   "id": "9e10016e",
   "metadata": {
    "execution": {
     "iopub.execute_input": "2023-04-12T13:42:42.309420Z",
     "iopub.status.busy": "2023-04-12T13:42:42.308629Z",
     "iopub.status.idle": "2023-04-12T13:42:42.608577Z",
     "shell.execute_reply": "2023-04-12T13:42:42.607376Z"
    },
    "papermill": {
     "duration": 0.312514,
     "end_time": "2023-04-12T13:42:42.611381",
     "exception": false,
     "start_time": "2023-04-12T13:42:42.298867",
     "status": "completed"
    },
    "tags": []
   },
   "outputs": [
    {
     "data": {
      "image/png": "[encoded data removed]",
      "text/plain": [
       "<Figure size 640x480 with 2 Axes>"
      ]
     },
     "metadata": {},
     "output_type": "display_data"
    }
   ],
   "source": [
    "cm = confusion_matrix(y_pred,y_test)\n",
    "disp = ConfusionMatrixDisplay(cm)\n",
    "disp.plot()\n",
    "plt.show()"
   ]
  },
  {
   "cell_type": "code",
   "execution_count": 16,
   "id": "78a90a08",
   "metadata": {
    "execution": {
     "iopub.execute_input": "2023-04-12T13:42:42.629890Z",
     "iopub.status.busy": "2023-04-12T13:42:42.628697Z",
     "iopub.status.idle": "2023-04-12T13:42:42.656427Z",
     "shell.execute_reply": "2023-04-12T13:42:42.655061Z"
    },
    "papermill": {
     "duration": 0.040055,
     "end_time": "2023-04-12T13:42:42.659449",
     "exception": false,
     "start_time": "2023-04-12T13:42:42.619394",
     "status": "completed"
    },
    "tags": []
   },
   "outputs": [
    {
     "name": "stdout",
     "output_type": "stream",
     "text": [
      "Precision\n",
      "0.9608619870068135\n"
     ]
    }
   ],
   "source": [
    "print(\"Precision\")\n",
    "print(precision_score(y_pred,y_test))"
   ]
  },
  {
   "cell_type": "code",
   "execution_count": 17,
   "id": "86c15d98",
   "metadata": {
    "execution": {
     "iopub.execute_input": "2023-04-12T13:42:42.678093Z",
     "iopub.status.busy": "2023-04-12T13:42:42.676841Z",
     "iopub.status.idle": "2023-04-12T13:42:42.706029Z",
     "shell.execute_reply": "2023-04-12T13:42:42.704058Z"
    },
    "papermill": {
     "duration": 0.041531,
     "end_time": "2023-04-12T13:42:42.708953",
     "exception": false,
     "start_time": "2023-04-12T13:42:42.667422",
     "status": "completed"
    },
    "tags": []
   },
   "outputs": [
    {
     "name": "stdout",
     "output_type": "stream",
     "text": [
      "Recall\n",
      "0.8534834623504575\n"
     ]
    }
   ],
   "source": [
    "print(\"Recall\")\n",
    "print(recall_score(y_pred,y_test))"
   ]
  },
  {
   "cell_type": "code",
   "execution_count": 18,
   "id": "4f3214d3",
   "metadata": {
    "execution": {
     "iopub.execute_input": "2023-04-12T13:42:42.727008Z",
     "iopub.status.busy": "2023-04-12T13:42:42.726263Z",
     "iopub.status.idle": "2023-04-12T13:42:42.753093Z",
     "shell.execute_reply": "2023-04-12T13:42:42.751860Z"
    },
    "papermill": {
     "duration": 0.039132,
     "end_time": "2023-04-12T13:42:42.756029",
     "exception": false,
     "start_time": "2023-04-12T13:42:42.716897",
     "status": "completed"
    },
    "tags": []
   },
   "outputs": [
    {
     "name": "stdout",
     "output_type": "stream",
     "text": [
      "f1-score\n",
      "0.903995229576625\n"
     ]
    }
   ],
   "source": [
    "print(\"f1-score\")\n",
    "print(f1_score(y_pred,y_test))"
   ]
  },
  {
   "cell_type": "code",
   "execution_count": null,
   "id": "dbe2cbc0",
   "metadata": {
    "papermill": {
     "duration": 0.007733,
     "end_time": "2023-04-12T13:42:42.771670",
     "exception": false,
     "start_time": "2023-04-12T13:42:42.763937",
     "status": "completed"
    },
    "tags": []
   },
   "outputs": [],
   "source": []
  }
 ],
 "metadata": {
  "kernelspec": {
   "display_name": "Python 3",
   "language": "python",
   "name": "python3"
  },
  "language_info": {
   "codemirror_mode": {
    "name": "ipython",
    "version": 3
   },
   "file_extension": ".py",
   "mimetype": "text/x-python",
   "name": "python",
   "nbconvert_exporter": "python",
   "pygments_lexer": "ipython3",
   "version": "3.7.12"
  },
  "papermill": {
   "default_parameters": {},
   "duration": 81.2084,
   "end_time": "2023-04-12T13:42:43.705412",
   "environment_variables": {},
   "exception": null,
   "input_path": "__notebook__.ipynb",
   "output_path": "__notebook__.ipynb",
   "parameters": {},
   "start_time": "2023-04-12T13:41:22.497012",
   "version": "2.4.0"
  }
 },
 "nbformat": 4,
 "nbformat_minor": 5
}
